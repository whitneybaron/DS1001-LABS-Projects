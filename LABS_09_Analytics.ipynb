{
  "cells": [
    {
      "cell_type": "markdown",
      "id": "435198a8",
      "metadata": {
        "id": "435198a8"
      },
      "source": [
        "# LABS-9: Analytics Project\n",
        "\n",
        "In this notebook you will run and edit the code to perform some data cleaning and run a basic kNN model.\n",
        "\n",
        "> **What is kNN?**\\\n",
        "k-Nearest Neighbors (kNN) is a machine learning algorithm used for classification tasks. At its core, kNN works by measuring the \"distance\" between data points. When you want to predict the category of a new data point, kNN looks at the 'k' closest points in your dataset (its \"neighbors\") and assigns the most common category among those neighbors to the new point.\n",
        "\n",
        "> **How does kNN measure distance?**\\\n",
        "kNN relies on distance metrics - commonly Euclidean distance (the straight-line distance between two points) - to find which data points are most similar. The algorithm compares all features (columns) in your dataset, so it's important that these features are numeric or converted to a format where distances can be calculated.\n",
        "\n",
        "> **How will we use kNN here?**\\\n",
        "In this notebook, we'll use kNN for classification: predicting whether a movie will receive a \"high\" or \"low\" score based on its features (like genre, country, budget, and more). By carefully cleaning and formatting our data, we ensure that kNN can measure distances and make meaningful predictions.\n",
        "\n",
        "**Data**\\\n",
        "This dataset comes from IMDB and can be accessed on [Kaggle](https://www.kaggle.com/datasets/ashpalsingh1525/imdb-movies-dataset)."
      ]
    },
    {
      "cell_type": "markdown",
      "id": "0617ebe9",
      "metadata": {
        "id": "0617ebe9"
      },
      "source": [
        "## Set up environment"
      ]
    },
    {
      "cell_type": "code",
      "execution_count": 2,
      "id": "3ad392be",
      "metadata": {
        "id": "3ad392be"
      },
      "outputs": [
        {
          "name": "stderr",
          "output_type": "stream",
          "text": [
            "/workspaces/DS1001-LABS-Projects/WhitneyBaron_env/lib/python3.12/site-packages/tqdm/auto.py:21: TqdmWarning: IProgress not found. Please update jupyter and ipywidgets. See https://ipywidgets.readthedocs.io/en/stable/user_install.html\n",
            "  from .autonotebook import tqdm as notebook_tqdm\n"
          ]
        }
      ],
      "source": [
        "## import packages\n",
        "\n",
        "import pandas as pd #data ingestion & cleaning\n",
        "import numpy as np #numbers\n",
        "\n",
        "# modeling\n",
        "from sklearn.model_selection import train_test_split\n",
        "from sklearn.preprocessing import MinMaxScaler\n",
        "from sklearn.neighbors import KNeighborsClassifier\n",
        "from sklearn.metrics import accuracy_score\n",
        "import kagglehub"
      ]
    },
    {
      "cell_type": "code",
      "execution_count": 3,
      "id": "vsv9nav5yIMR",
      "metadata": {
        "colab": {
          "base_uri": "https://localhost:8080/"
        },
        "id": "vsv9nav5yIMR",
        "outputId": "28f77e56-ac2f-4452-99b8-cce302fcaf58"
      },
      "outputs": [
        {
          "name": "stdout",
          "output_type": "stream",
          "text": [
            "Downloading from https://www.kaggle.com/api/v1/datasets/download/ashpalsingh1525/imdb-movies-dataset?dataset_version_number=1...\n"
          ]
        },
        {
          "name": "stderr",
          "output_type": "stream",
          "text": [
            "100%|██████████| 2.84M/2.84M [00:00<00:00, 112MB/s]"
          ]
        },
        {
          "name": "stdout",
          "output_type": "stream",
          "text": [
            "Extracting files...\n",
            "Path to dataset files: /home/codespace/.cache/kagglehub/datasets/ashpalsingh1525/imdb-movies-dataset/versions/1\n"
          ]
        },
        {
          "name": "stderr",
          "output_type": "stream",
          "text": [
            "\n"
          ]
        }
      ],
      "source": [
        "# Download latest version\n",
        "path = kagglehub.dataset_download(\"ashpalsingh1525/imdb-movies-dataset\")\n",
        "\n",
        "print(\"Path to dataset files:\", path)"
      ]
    },
    {
      "cell_type": "code",
      "execution_count": 5,
      "id": "4eb7d52e",
      "metadata": {
        "colab": {
          "base_uri": "https://localhost:8080/",
          "height": 625
        },
        "id": "4eb7d52e",
        "outputId": "288296da-8cf5-40d8-8b40-83f279fd8a41"
      },
      "outputs": [
        {
          "data": {
            "text/html": [
              "<div>\n",
              "<style scoped>\n",
              "    .dataframe tbody tr th:only-of-type {\n",
              "        vertical-align: middle;\n",
              "    }\n",
              "\n",
              "    .dataframe tbody tr th {\n",
              "        vertical-align: top;\n",
              "    }\n",
              "\n",
              "    .dataframe thead th {\n",
              "        text-align: right;\n",
              "    }\n",
              "</style>\n",
              "<table border=\"1\" class=\"dataframe\">\n",
              "  <thead>\n",
              "    <tr style=\"text-align: right;\">\n",
              "      <th></th>\n",
              "      <th>names</th>\n",
              "      <th>date_x</th>\n",
              "      <th>score</th>\n",
              "      <th>genre</th>\n",
              "      <th>overview</th>\n",
              "      <th>crew</th>\n",
              "      <th>orig_title</th>\n",
              "      <th>status</th>\n",
              "      <th>orig_lang</th>\n",
              "      <th>budget_x</th>\n",
              "      <th>revenue</th>\n",
              "      <th>country</th>\n",
              "    </tr>\n",
              "  </thead>\n",
              "  <tbody>\n",
              "    <tr>\n",
              "      <th>0</th>\n",
              "      <td>Creed III</td>\n",
              "      <td>03/02/2023</td>\n",
              "      <td>73.0</td>\n",
              "      <td>Drama, Action</td>\n",
              "      <td>After dominating the boxing world, Adonis Cree...</td>\n",
              "      <td>Michael B. Jordan, Adonis Creed, Tessa Thompso...</td>\n",
              "      <td>Creed III</td>\n",
              "      <td>Released</td>\n",
              "      <td>English</td>\n",
              "      <td>75000000.0</td>\n",
              "      <td>2.716167e+08</td>\n",
              "      <td>AU</td>\n",
              "    </tr>\n",
              "    <tr>\n",
              "      <th>1</th>\n",
              "      <td>Avatar: The Way of Water</td>\n",
              "      <td>12/15/2022</td>\n",
              "      <td>78.0</td>\n",
              "      <td>Science Fiction, Adventure, Action</td>\n",
              "      <td>Set more than a decade after the events of the...</td>\n",
              "      <td>Sam Worthington, Jake Sully, Zoe Saldaña, Neyt...</td>\n",
              "      <td>Avatar: The Way of Water</td>\n",
              "      <td>Released</td>\n",
              "      <td>English</td>\n",
              "      <td>460000000.0</td>\n",
              "      <td>2.316795e+09</td>\n",
              "      <td>AU</td>\n",
              "    </tr>\n",
              "    <tr>\n",
              "      <th>2</th>\n",
              "      <td>The Super Mario Bros. Movie</td>\n",
              "      <td>04/05/2023</td>\n",
              "      <td>76.0</td>\n",
              "      <td>Animation, Adventure, Family, Fantasy, Comedy</td>\n",
              "      <td>While working underground to fix a water main,...</td>\n",
              "      <td>Chris Pratt, Mario (voice), Anya Taylor-Joy, P...</td>\n",
              "      <td>The Super Mario Bros. Movie</td>\n",
              "      <td>Released</td>\n",
              "      <td>English</td>\n",
              "      <td>100000000.0</td>\n",
              "      <td>7.244590e+08</td>\n",
              "      <td>AU</td>\n",
              "    </tr>\n",
              "    <tr>\n",
              "      <th>3</th>\n",
              "      <td>Mummies</td>\n",
              "      <td>01/05/2023</td>\n",
              "      <td>70.0</td>\n",
              "      <td>Animation, Comedy, Family, Adventure, Fantasy</td>\n",
              "      <td>Through a series of unfortunate events, three ...</td>\n",
              "      <td>Óscar Barberán, Thut (voice), Ana Esther Albor...</td>\n",
              "      <td>Momias</td>\n",
              "      <td>Released</td>\n",
              "      <td>Spanish, Castilian</td>\n",
              "      <td>12300000.0</td>\n",
              "      <td>3.420000e+07</td>\n",
              "      <td>AU</td>\n",
              "    </tr>\n",
              "    <tr>\n",
              "      <th>4</th>\n",
              "      <td>Supercell</td>\n",
              "      <td>03/17/2023</td>\n",
              "      <td>61.0</td>\n",
              "      <td>Action</td>\n",
              "      <td>Good-hearted teenager William always lived in ...</td>\n",
              "      <td>Skeet Ulrich, Roy Cameron, Anne Heche, Dr Quin...</td>\n",
              "      <td>Supercell</td>\n",
              "      <td>Released</td>\n",
              "      <td>English</td>\n",
              "      <td>77000000.0</td>\n",
              "      <td>3.409420e+08</td>\n",
              "      <td>US</td>\n",
              "    </tr>\n",
              "  </tbody>\n",
              "</table>\n",
              "</div>"
            ],
            "text/plain": [
              "                         names       date_x  score  \\\n",
              "0                    Creed III  03/02/2023    73.0   \n",
              "1     Avatar: The Way of Water  12/15/2022    78.0   \n",
              "2  The Super Mario Bros. Movie  04/05/2023    76.0   \n",
              "3                      Mummies  01/05/2023    70.0   \n",
              "4                    Supercell  03/17/2023    61.0   \n",
              "\n",
              "                                           genre  \\\n",
              "0                                  Drama, Action   \n",
              "1             Science Fiction, Adventure, Action   \n",
              "2  Animation, Adventure, Family, Fantasy, Comedy   \n",
              "3  Animation, Comedy, Family, Adventure, Fantasy   \n",
              "4                                         Action   \n",
              "\n",
              "                                            overview  \\\n",
              "0  After dominating the boxing world, Adonis Cree...   \n",
              "1  Set more than a decade after the events of the...   \n",
              "2  While working underground to fix a water main,...   \n",
              "3  Through a series of unfortunate events, three ...   \n",
              "4  Good-hearted teenager William always lived in ...   \n",
              "\n",
              "                                                crew  \\\n",
              "0  Michael B. Jordan, Adonis Creed, Tessa Thompso...   \n",
              "1  Sam Worthington, Jake Sully, Zoe Saldaña, Neyt...   \n",
              "2  Chris Pratt, Mario (voice), Anya Taylor-Joy, P...   \n",
              "3  Óscar Barberán, Thut (voice), Ana Esther Albor...   \n",
              "4  Skeet Ulrich, Roy Cameron, Anne Heche, Dr Quin...   \n",
              "\n",
              "                    orig_title     status            orig_lang     budget_x  \\\n",
              "0                    Creed III   Released              English   75000000.0   \n",
              "1     Avatar: The Way of Water   Released              English  460000000.0   \n",
              "2  The Super Mario Bros. Movie   Released              English  100000000.0   \n",
              "3                       Momias   Released   Spanish, Castilian   12300000.0   \n",
              "4                    Supercell   Released              English   77000000.0   \n",
              "\n",
              "        revenue country  \n",
              "0  2.716167e+08      AU  \n",
              "1  2.316795e+09      AU  \n",
              "2  7.244590e+08      AU  \n",
              "3  3.420000e+07      AU  \n",
              "4  3.409420e+08      US  "
            ]
          },
          "execution_count": 5,
          "metadata": {},
          "output_type": "execute_result"
        }
      ],
      "source": [
        "# Read in data\n",
        "data = pd.read_csv('/workspaces/DS1001-LABS-Projects/imdb_movies.csv')\n",
        "\n",
        "# view data\n",
        "data.head()"
      ]
    },
    {
      "cell_type": "markdown",
      "id": "d94ff1aa",
      "metadata": {
        "id": "d94ff1aa"
      },
      "source": [
        "## Data Cleaning & Model Prep\n",
        "\n",
        "Before building a machine learning model, it is essential to clean and format the data. Raw data often contains missing values, inconsistent formats, or irrelevant information that can negatively impact or break a model.\\\n",
        "Many algorithms, including kNN, require numeric input or specificly formatted categorical data. By cleaning the data (removing or imputing missing values, converting strings to categorical variables, and creating dummy variables), we ensure that our dataset is structured in a way that the model can interpret and learn from effectively.\n",
        "\n",
        "Proper data preparation leads to more accurate, reliable, and interpretable results.\n",
        "\n",
        "There are many decisions that get made throughout this process and there is often no \"right\" answer - so documentating why you do things as you clean data is **key**."
      ]
    },
    {
      "cell_type": "markdown",
      "id": "15c8dfb6",
      "metadata": {
        "id": "15c8dfb6"
      },
      "source": [
        "### Missing Values\n",
        "\n",
        "We saw in our design lab that some of our columns are missing values. Many models can not tolerate missing data (they will break the model), so we have to deal with these before passing the data through to our model.\n",
        "\n",
        "We can use the [`.info()`](https://pandas.pydata.org/docs/reference/api/pandas.DataFrame.info.html#pandas.DataFrame.info) method to see what columns are missing data. Run this below (look back at LABS-06 if you don't remember how)."
      ]
    },
    {
      "cell_type": "code",
      "execution_count": 7,
      "id": "fe5d1c37",
      "metadata": {
        "id": "fe5d1c37"
      },
      "outputs": [
        {
          "name": "stdout",
          "output_type": "stream",
          "text": [
            "<class 'pandas.core.frame.DataFrame'>\n",
            "RangeIndex: 10178 entries, 0 to 10177\n",
            "Data columns (total 12 columns):\n",
            " #   Column      Non-Null Count  Dtype  \n",
            "---  ------      --------------  -----  \n",
            " 0   names       10178 non-null  object \n",
            " 1   date_x      10178 non-null  object \n",
            " 2   score       10178 non-null  float64\n",
            " 3   genre       10093 non-null  object \n",
            " 4   overview    10178 non-null  object \n",
            " 5   crew        10122 non-null  object \n",
            " 6   orig_title  10178 non-null  object \n",
            " 7   status      10178 non-null  object \n",
            " 8   orig_lang   10178 non-null  object \n",
            " 9   budget_x    10178 non-null  float64\n",
            " 10  revenue     10178 non-null  float64\n",
            " 11  country     10178 non-null  object \n",
            "dtypes: float64(3), object(9)\n",
            "memory usage: 954.3+ KB\n"
          ]
        }
      ],
      "source": [
        "# ADD THE CODE TO RUN .INFO() ON THE DATA HERE\n",
        "data.info()\n",
        "\n"
      ]
    },
    {
      "cell_type": "markdown",
      "id": "e17c1d68",
      "metadata": {
        "id": "e17c1d68"
      },
      "source": [
        "2 columns are missing data: `genre` and `crew`.\\\n",
        "Since we have a large data set for kNN, we can drop the relatively few rows that are missing data using .dropna()"
      ]
    },
    {
      "cell_type": "code",
      "execution_count": 8,
      "id": "18e7a61e",
      "metadata": {
        "id": "18e7a61e"
      },
      "outputs": [],
      "source": [
        "## make a new df to make changes to\n",
        "model_data = data.copy()"
      ]
    },
    {
      "cell_type": "code",
      "execution_count": 9,
      "id": "fbc2815f",
      "metadata": {
        "id": "fbc2815f"
      },
      "outputs": [],
      "source": [
        "# drop rows containing NaN (missing) values\n",
        "model_data.dropna(inplace=True)"
      ]
    },
    {
      "cell_type": "markdown",
      "id": "116254da",
      "metadata": {
        "id": "116254da"
      },
      "source": [
        "Now that we've dropped rows with missing values, our dataset is free of NaNs.\n",
        ">The output of the cell below (`model_data.info()`) confirms that all columns are complete and can be used to answer **question 1** regarding how much data was removed."
      ]
    },
    {
      "cell_type": "code",
      "execution_count": 10,
      "id": "b619b527",
      "metadata": {
        "colab": {
          "base_uri": "https://localhost:8080/"
        },
        "id": "b619b527",
        "outputId": "b52e9795-44ac-4536-822f-8ff8149dbd33"
      },
      "outputs": [
        {
          "name": "stdout",
          "output_type": "stream",
          "text": [
            "<class 'pandas.core.frame.DataFrame'>\n",
            "Index: 10052 entries, 0 to 10177\n",
            "Data columns (total 12 columns):\n",
            " #   Column      Non-Null Count  Dtype  \n",
            "---  ------      --------------  -----  \n",
            " 0   names       10052 non-null  object \n",
            " 1   date_x      10052 non-null  object \n",
            " 2   score       10052 non-null  float64\n",
            " 3   genre       10052 non-null  object \n",
            " 4   overview    10052 non-null  object \n",
            " 5   crew        10052 non-null  object \n",
            " 6   orig_title  10052 non-null  object \n",
            " 7   status      10052 non-null  object \n",
            " 8   orig_lang   10052 non-null  object \n",
            " 9   budget_x    10052 non-null  float64\n",
            " 10  revenue     10052 non-null  float64\n",
            " 11  country     10052 non-null  object \n",
            "dtypes: float64(3), object(9)\n",
            "memory usage: 1020.9+ KB\n"
          ]
        }
      ],
      "source": [
        "model_data.info()"
      ]
    },
    {
      "cell_type": "markdown",
      "id": "10cf65e6",
      "metadata": {
        "id": "10cf65e6"
      },
      "source": [
        "### Look at Columns\n",
        "\n",
        "When preparing data for kNN, it's important to look at the values in each column, especially for columns with categories (like country or genre).\\\n",
        "kNN works by measuring the distance between data points to find the ones that are most similar, so if a column has too many different categories, it can make these distance calculations confusing and less useful. If some categories only appear a few times, they don't help much and can make the model less accurate.\n",
        "\n",
        "To fix this, we can group these less common categories into a single 'other' category. This makes the data simpler and helps kNN focus on the most useful information when measuring distances."
      ]
    },
    {
      "cell_type": "code",
      "execution_count": 11,
      "id": "5c646d82",
      "metadata": {
        "colab": {
          "base_uri": "https://localhost:8080/",
          "height": 209
        },
        "id": "5c646d82",
        "outputId": "618dc27a-b764-492e-dbd2-a134135d1620"
      },
      "outputs": [
        {
          "data": {
            "text/plain": [
              "status\n",
              "Released           10131\n",
              "Post Production       31\n",
              "In Production         16\n",
              "Name: count, dtype: int64"
            ]
          },
          "execution_count": 11,
          "metadata": {},
          "output_type": "execute_result"
        }
      ],
      "source": [
        "data['status'].value_counts()"
      ]
    },
    {
      "cell_type": "markdown",
      "id": "caf640ed",
      "metadata": {
        "id": "caf640ed"
      },
      "source": [
        "The `status` column has 3 levels (3 distrinct values in the column). This works great for kNN!\n",
        "\n",
        "Now let's take a look at `country`."
      ]
    },
    {
      "cell_type": "code",
      "execution_count": 12,
      "id": "9d083f61",
      "metadata": {
        "colab": {
          "base_uri": "https://localhost:8080/",
          "height": 1000
        },
        "id": "9d083f61",
        "outputId": "cb85fce0-98b5-4c3a-e7cd-4d229e10e7b9"
      },
      "outputs": [
        {
          "data": {
            "text/plain": [
              "country\n",
              "AU    4885\n",
              "US    2750\n",
              "JP     538\n",
              "KR     361\n",
              "FR     222\n",
              "GB     174\n",
              "ES     153\n",
              "HK     125\n",
              "IT     123\n",
              "MX     105\n",
              "CN      93\n",
              "DE      88\n",
              "CA      67\n",
              "RU      52\n",
              "PH      43\n",
              "IN      43\n",
              "AR      41\n",
              "BR      38\n",
              "TH      30\n",
              "DK      24\n",
              "PL      22\n",
              "TR      20\n",
              "NL      16\n",
              "NO      16\n",
              "CO      14\n",
              "TW      13\n",
              "ID      12\n",
              "IE      11\n",
              "SE       9\n",
              "CL       9\n",
              "BE       7\n",
              "PE       7\n",
              "GR       6\n",
              "FI       6\n",
              "SU       5\n",
              "CH       5\n",
              "UA       4\n",
              "SG       4\n",
              "ZA       3\n",
              "HU       3\n",
              "VN       3\n",
              "IS       2\n",
              "GT       2\n",
              "PR       2\n",
              "AT       2\n",
              "UY       2\n",
              "CZ       2\n",
              "SK       2\n",
              "IR       2\n",
              "MY       2\n",
              "DO       1\n",
              "IL       1\n",
              "BY       1\n",
              "BO       1\n",
              "MU       1\n",
              "PY       1\n",
              "LV       1\n",
              "XC       1\n",
              "PT       1\n",
              "KH       1\n",
              "Name: count, dtype: int64"
            ]
          },
          "execution_count": 12,
          "metadata": {},
          "output_type": "execute_result"
        }
      ],
      "source": [
        "data['country'].value_counts()"
      ]
    },
    {
      "cell_type": "markdown",
      "id": "3bfaa9f5",
      "metadata": {
        "id": "3bfaa9f5"
      },
      "source": [
        "`country` has far too many columns to use in kNN. We need to collapse the smaller countries into a single \"other\" category.\n",
        "\n",
        "In the next code cell, you will run the code to do this."
      ]
    },
    {
      "cell_type": "markdown",
      "id": "9c39bbf8",
      "metadata": {
        "id": "9c39bbf8"
      },
      "source": [
        "#### Collapse the `country` column\n",
        "\n",
        "The cell below contains the code to collapse the `country` column reassign any coutries with less occurances than the threshold to have the value 'other'.\n",
        "\n",
        "> *Hint: Look at the variable assignment in the cell below to identify where the threshold for grouping countries is set to help answer **question 3**. Notice where this is used in the line below the does the actual collapsing.*"
      ]
    },
    {
      "cell_type": "code",
      "execution_count": 13,
      "id": "4467c407",
      "metadata": {
        "id": "4467c407"
      },
      "outputs": [],
      "source": [
        "threshold = 100\n",
        "model_data['country'] = model_data['country'].apply(lambda x: x if model_data['country'].value_counts()[x] > threshold else 'other')"
      ]
    },
    {
      "cell_type": "code",
      "execution_count": 14,
      "id": "d6b653ce",
      "metadata": {
        "colab": {
          "base_uri": "https://localhost:8080/",
          "height": 460
        },
        "id": "d6b653ce",
        "outputId": "20bb0ab0-133b-4ce2-86fa-536a936ac31e"
      },
      "outputs": [
        {
          "data": {
            "text/plain": [
              "country\n",
              "AU       4880\n",
              "US       2716\n",
              "other     709\n",
              "JP        502\n",
              "KR        358\n",
              "FR        219\n",
              "GB        172\n",
              "ES        151\n",
              "IT        123\n",
              "HK        120\n",
              "MX        102\n",
              "Name: count, dtype: int64"
            ]
          },
          "execution_count": 14,
          "metadata": {},
          "output_type": "execute_result"
        }
      ],
      "source": [
        "# check the new counts after collapsing\n",
        "\n",
        "model_data['country'].value_counts()\n"
      ]
    },
    {
      "cell_type": "markdown",
      "id": "ec316b2b",
      "metadata": {
        "id": "ec316b2b"
      },
      "source": [
        "Now the `country` column has 11 levels, including our new \"other\" category. This is still a little large for kNN, but we can always come back and adjust this if we find our model needs some tinkering."
      ]
    },
    {
      "cell_type": "markdown",
      "id": "70f9d780",
      "metadata": {
        "id": "70f9d780"
      },
      "source": [
        "#### Look at other problematic columns\n",
        "\n",
        "Now let's check out some of the other categorical columns that we'll use and see if we need to collapse or simplify any of them."
      ]
    },
    {
      "cell_type": "code",
      "execution_count": 15,
      "id": "d8e8ab6d",
      "metadata": {
        "colab": {
          "base_uri": "https://localhost:8080/",
          "height": 490
        },
        "id": "d8e8ab6d",
        "outputId": "c2103421-11e9-43db-c6f6-6bf3e04500e4"
      },
      "outputs": [
        {
          "data": {
            "text/plain": [
              "genre\n",
              "Drama                                          556\n",
              "Comedy                                         373\n",
              "Drama, Romance                                 268\n",
              "Horror                                         258\n",
              "Horror, Thriller                               202\n",
              "                                              ... \n",
              "Adventure, Family, Mystery, Science Fiction      1\n",
              "Mystery, Drama, Action, Crime                    1\n",
              "Thriller, Comedy, Action                         1\n",
              "Drama, Romance, Horror                           1\n",
              "Fantasy, Drama, Comedy, Science Fiction          1\n",
              "Name: count, Length: 2300, dtype: int64"
            ]
          },
          "execution_count": 15,
          "metadata": {},
          "output_type": "execute_result"
        }
      ],
      "source": [
        "# Check values for 'genre' column\n",
        "\n",
        "model_data['genre'].value_counts()"
      ]
    },
    {
      "cell_type": "code",
      "execution_count": 16,
      "id": "900d49a5",
      "metadata": {
        "colab": {
          "base_uri": "https://localhost:8080/",
          "height": 1000
        },
        "id": "900d49a5",
        "outputId": "1031e838-d4e1-47c4-ab24-278a008e52bd"
      },
      "outputs": [
        {
          "data": {
            "text/plain": [
              "orig_lang\n",
              "English                                7381\n",
              "Japanese                                675\n",
              "Spanish, Castilian                      388\n",
              "Korean                                  384\n",
              "French                                  282\n",
              "Chinese                                 144\n",
              "Italian                                 142\n",
              "Cantonese                               141\n",
              "German                                   89\n",
              "Russian                                  65\n",
              "Tagalog                                  42\n",
              "Portuguese                               35\n",
              "Thai                                     33\n",
              "Norwegian                                29\n",
              "Hindi                                    26\n",
              "Polish                                   26\n",
              "Danish                                   23\n",
              "Swedish                                  22\n",
              "Turkish                                  21\n",
              "Dutch, Flemish                           21\n",
              "Indonesian                               11\n",
              "Finnish                                   6\n",
              "Greek                                     6\n",
              "Telugu                                    6\n",
              "Tamil                                     5\n",
              "Persian                                   4\n",
              "Arabic                                    4\n",
              "Ukrainian                                 4\n",
              "Icelandic                                 3\n",
              "Malayalam                                 3\n",
              "Vietnamese                                3\n",
              "Catalan, Valencian                        2\n",
              "Hungarian                                 2\n",
              "Czech                                     2\n",
              "Kannada                                   2\n",
              "Malay                                     2\n",
              "Romanian                                  2\n",
              "Oriya                                     1\n",
              "Galician                                  1\n",
              "Serbian                                   1\n",
              "Macedonian                                1\n",
              "Latvian                                   1\n",
              "Basque                                    1\n",
              "Bokmål, Norwegian, Norwegian Bokmål       1\n",
              "Bengali                                   1\n",
              "Irish                                     1\n",
              "Central Khmer                             1\n",
              "Gujarati                                  1\n",
              "Serbo-Croatian                            1\n",
              "Latin                                     1\n",
              "Dzongkha                                  1\n",
              "No Language                               1\n",
              "Slovak                                    1\n",
              "Name: count, dtype: int64"
            ]
          },
          "execution_count": 16,
          "metadata": {},
          "output_type": "execute_result"
        }
      ],
      "source": [
        "# Check values for 'orig_lang' column\n",
        "\n",
        "model_data['orig_lang'].value_counts()"
      ]
    },
    {
      "cell_type": "markdown",
      "id": "fcba9358",
      "metadata": {
        "id": "fcba9358"
      },
      "source": [
        "Both the `genre` and `orig_lang` columns often contain multiple values separated by commas within a single cell (for example, \"Animation, Adventure, Family\" or \"Spanish, Castilian\"). This means that instead of just one value, each cell can list several genres or languages for a movie.\n",
        "\n",
        "This is too complex for machine learning models like kNN, which work best when each column contains just one clear value per row. To make things simpler and easier to model, we will only keep the first value from each cell. This way, each movie will have just one genre and one language listed, making our data cleaner and better suited for the modeling we are doing.\n"
      ]
    },
    {
      "cell_type": "markdown",
      "id": "fbcb6b0d",
      "metadata": {
        "id": "fbcb6b0d"
      },
      "source": [
        "#### Get the first value for `genre` and `orig_lang`\n",
        "\n",
        "\n",
        "This process happens in three steps:\n",
        "\n",
        "1. **Define the function:**  \n",
        "    To simplify columns that contain lists of values, we we use a **function** - a reusable block of code that performs a specific task. Think of a function like a mini-program: you give it some input, it does something for you, and gives you back a result. Here, our function will extract just the first value from each cell to simplify the data so each row has only one value per column.\n",
        "\n",
        "2. **Apply the function:**  \n",
        "    We then apply this function to the `genre` and `orig_lang` columns, creating new columns called `top_genre` and `top_lang` with just the top value for each movie.\n",
        "\n",
        "3. **Recheck the counts:**  \n",
        "    After this step, we check how many unique values remain in these simplified columns to confirm that our data is now easier to work with."
      ]
    },
    {
      "cell_type": "code",
      "execution_count": 17,
      "id": "8862249a",
      "metadata": {
        "id": "8862249a"
      },
      "outputs": [],
      "source": [
        "# define the function to simplify the columns\n",
        "\n",
        "def get_top_value(old_column_name, new_column_name):\n",
        "    \"\"\"\n",
        "    Function to extract the first value from a column that contains multiple comma seperated values\n",
        "    Appends a new column to the dataframe\n",
        "    \"\"\"\n",
        "\n",
        "    col = list(model_data[old_column_name].values)\n",
        "\n",
        "    top_list = []\n",
        "    for item in col:\n",
        "        item = str(item).split(\",\")\n",
        "        item1 = item[0]\n",
        "        top_list.append(item1)\n",
        "\n",
        "    model_data[new_column_name] = top_list"
      ]
    },
    {
      "cell_type": "code",
      "execution_count": 18,
      "id": "e917ee05",
      "metadata": {
        "id": "e917ee05"
      },
      "outputs": [],
      "source": [
        "# apply the function to the 'genre' and 'orig_lang' columns\n",
        "\n",
        "get_top_value('genre', 'top_genre')\n",
        "get_top_value('orig_lang', 'top_lang')"
      ]
    },
    {
      "cell_type": "code",
      "execution_count": 19,
      "id": "daaf9acf",
      "metadata": {
        "colab": {
          "base_uri": "https://localhost:8080/",
          "height": 1000
        },
        "id": "daaf9acf",
        "outputId": "29241625-f097-4a26-82c4-71936adc85d5"
      },
      "outputs": [
        {
          "data": {
            "text/plain": [
              "top_genre\n",
              "Drama              1865\n",
              "Action             1563\n",
              "Comedy             1377\n",
              "Horror              931\n",
              "Animation           885\n",
              "Thriller            577\n",
              "Adventure           571\n",
              "Romance             413\n",
              "Crime               371\n",
              "Family              333\n",
              "Science Fiction     313\n",
              "Fantasy             263\n",
              "Documentary         176\n",
              "Mystery             108\n",
              "War                  77\n",
              "Music                76\n",
              "Western              72\n",
              "History              46\n",
              "TV Movie             35\n",
              "Name: count, dtype: int64"
            ]
          },
          "metadata": {},
          "output_type": "display_data"
        },
        {
          "data": {
            "text/plain": [
              "top_lang\n",
              "English           7381\n",
              "Japanese           675\n",
              "Spanish            388\n",
              "Korean             384\n",
              "French             282\n",
              "Chinese            144\n",
              "Italian            142\n",
              "Cantonese          141\n",
              "German              89\n",
              "Russian             65\n",
              "Tagalog             42\n",
              "Portuguese          35\n",
              "Thai                33\n",
              "Norwegian           29\n",
              "Hindi               26\n",
              "Polish              26\n",
              "Danish              23\n",
              "Swedish             22\n",
              "Turkish             21\n",
              "Dutch               21\n",
              "Indonesian          11\n",
              "Finnish              6\n",
              "Greek                6\n",
              "Telugu               6\n",
              "Tamil                5\n",
              "Persian              4\n",
              "Arabic               4\n",
              "Ukrainian            4\n",
              "Icelandic            3\n",
              "Malayalam            3\n",
              "Vietnamese           3\n",
              "Catalan              2\n",
              "Hungarian            2\n",
              "Czech                2\n",
              "Kannada              2\n",
              "Malay                2\n",
              "Romanian             2\n",
              "Oriya                1\n",
              "Galician             1\n",
              "Serbian              1\n",
              "Macedonian           1\n",
              "Latvian              1\n",
              "Basque               1\n",
              "Bokmål               1\n",
              "Bengali              1\n",
              "Irish                1\n",
              "Central Khmer        1\n",
              "Gujarati             1\n",
              "Serbo-Croatian       1\n",
              "Latin                1\n",
              "Dzongkha             1\n",
              "No Language          1\n",
              "Slovak               1\n",
              "Name: count, dtype: int64"
            ]
          },
          "metadata": {},
          "output_type": "display_data"
        }
      ],
      "source": [
        "# Check the counts again\n",
        "\n",
        "display(model_data['top_genre'].value_counts(),\n",
        "        model_data['top_lang'].value_counts())"
      ]
    },
    {
      "cell_type": "markdown",
      "id": "017d3a31",
      "metadata": {
        "id": "017d3a31"
      },
      "source": [
        "The `top_genre` column now has 19 different values, which is easier for kNN to work with than the original genre data that had lots of combinations. By simplifying this column, the distance calculations in the model will have more meaning. If we notice that some genres are still very rare or if our model isn’t working well, we can always come back and group those rare genres into an \"other\" category to make things even simpler.\n",
        "\n",
        "\n",
        "For the `top_lang` column, we’ve also made things easier by keeping only the main language for each movie. But some languages only show up a few times, which can overly-complicate the distance calculations in the model. To fix this, we should group these less common languages into an \"other\" category, just like we did for the `country` column. This helps the most important languages have meaning and avoids over-complicating the model with the ones that don’t appear often."
      ]
    },
    {
      "cell_type": "markdown",
      "id": "eb462c86",
      "metadata": {
        "id": "eb462c86"
      },
      "source": [
        "The cell below contains the code to collapse the `top_lang` column reassign any languages with less occurances than the threshold to have the value 'other'.\n",
        "\n",
        "> *Hint: Look at the variable assignment in the cell below to identify where the threshold for grouping languages is set to help answer **question 3**. Notice where this is used in the line below the does the actual collapsing.*"
      ]
    },
    {
      "cell_type": "code",
      "execution_count": 20,
      "id": "e680d244",
      "metadata": {
        "id": "e680d244"
      },
      "outputs": [],
      "source": [
        "#collapse top_lang\n",
        "\n",
        "threshold = 10\n",
        "model_data['top_lang'] = model_data['top_lang'].apply(lambda x: x if model_data['top_lang'].value_counts()[x] > threshold else 'other')"
      ]
    },
    {
      "cell_type": "markdown",
      "id": "3716d5c6",
      "metadata": {
        "id": "3716d5c6"
      },
      "source": [
        "### Reformat columns\n",
        "\n",
        "For kNN modeling, each column in your dataset should be in a format that the algorithm can easily understand and compare. This means:\n",
        "\n",
        "- **Numeric columns** (like `budget_x`, `revenue`, and `date_x`) should contain numbers only, and be formatted as such so the model can measure distances between values. We also need to scale these columns so that the values are in the same range, which ensures all features contribute equally rather than letting large-range variables dominate.\n",
        "- **Categorical columns** (like `country`, `top_genre`, and `top_lang`) should be converted into a format the model can use. One common way to do this is by creating dummy variables (also called one-hot encoding). For example, if you have a column called `top_genre` with values like \"Action\", \"Comedy\", or \"Drama\", you make a new column for each possible genre: one column for \"Action\", one for \"Comedy\", one for \"Drama\", and so on. In each new column, you put a `1` (or `True`) if the movie belongs to that genre, and a `0` (or `False`) if it does not. This allows for distances between values to be calculated.\n",
        "- **The variable you are predicting** (in this case `score`) needs to be categorical, such as \"high\" or \"low\", so kNN can classify new data into one of these categories. While kNN *can* be used for regression (predicting specific values), it is best suited for classification - which is how we will be using it here.\n",
        "\n",
        "By carefully reformatting each column, we ensure that kNN can accurately measure the \"distance\" between movies based on meaningful, comparable features—leading to better predictions and more reliable results."
      ]
    },
    {
      "cell_type": "markdown",
      "id": "501246c3",
      "metadata": {
        "id": "501246c3"
      },
      "source": [
        "#### Date\n",
        "\n",
        "The original `date_x` column contains full date information (month, day, year), but for our analysis we will simplify the data and make it easier for kNN to compare movies based on their release year. This also helps avoid unnecessary complexity from day/month differences that aren't meaningful for our predictions.\n",
        "\n",
        "This is another place where if we find our model does not perform well, we may want to revisit this decision to only keep the year, as the month a movie gets released may have some predictive power as well.\n",
        "\n",
        "**Step 1: Convert the `date_x` column to datetime format**  \n",
        "First, we use a pandas function to change the `date_x` column from a string (like \"03/02/2023\") into a pandas datetime object. This makes it easy to work with dates and extract parts like the year.\n",
        "\n",
        "**Step 2: Extract the year from the datetime column**  \n",
        "Once the column is in datetime format, we can use pandas to pull out just the year for each movie and save it in a new column called `year`. This gives us a simple numeric value that is much easier for kNN to use when comparing movies.\n",
        "\n",
        "By following these steps, we transform a complex date into a single, meaningful feature that helps our model focus on the most relevant information.\n"
      ]
    },
    {
      "cell_type": "code",
      "execution_count": 21,
      "id": "11b52146",
      "metadata": {
        "id": "11b52146"
      },
      "outputs": [],
      "source": [
        "## Convert to datetime format\n",
        "\n",
        "model_data['date_x'] = pd.to_datetime(model_data['date_x'])"
      ]
    },
    {
      "cell_type": "code",
      "execution_count": 22,
      "id": "00f8bd94",
      "metadata": {
        "id": "00f8bd94"
      },
      "outputs": [],
      "source": [
        "## extract the year and save as a new column 'year'\n",
        "# this will save as an integer\n",
        "\n",
        "model_data['year'] = model_data['date_x'].dt.year"
      ]
    },
    {
      "cell_type": "markdown",
      "id": "e6fdd927",
      "metadata": {
        "id": "e6fdd927"
      },
      "source": [
        "#### Score\n",
        "\n",
        "To use kNN for classification, we need to convert the movie scores from numbers to categories. In this case, we will use a 2-level classification: \"high\" or \"low\" scores.\\\n",
        "This will allow us to predict whether a movie will receive a \"high\" or \"low\" score based on the characteristics in our dataset.\n",
        "\n",
        "In order to convert our score from numeric to categorical, we must determine a \"threshold\" to seperate the \"high\" and \"low\" scores.\\\n",
        "Use the density plot of the score distribution you created in LABS_06-Design to pick a threshold. Then:\n",
        " - Enter your chosen threshold into the code cell below before running it.\n",
        " - Provide an explanation for why you chose that threshold to answer **question 5**.\n",
        "\n",
        "> ***Remember**: This is another situation where there is no \"right answer\" on what to choose.*\\\n",
        "*This is a decision point where you should make an informed choice and note that you can adjust it later if your model performance warrants it.*"
      ]
    },
    {
      "cell_type": "code",
      "execution_count": 23,
      "id": "758c5567",
      "metadata": {
        "colab": {
          "base_uri": "https://localhost:8080/",
          "height": 625
        },
        "id": "758c5567",
        "outputId": "c74dad92-777e-4142-84f0-bd58d1aeed6c"
      },
      "outputs": [
        {
          "data": {
            "text/html": [
              "<div>\n",
              "<style scoped>\n",
              "    .dataframe tbody tr th:only-of-type {\n",
              "        vertical-align: middle;\n",
              "    }\n",
              "\n",
              "    .dataframe tbody tr th {\n",
              "        vertical-align: top;\n",
              "    }\n",
              "\n",
              "    .dataframe thead th {\n",
              "        text-align: right;\n",
              "    }\n",
              "</style>\n",
              "<table border=\"1\" class=\"dataframe\">\n",
              "  <thead>\n",
              "    <tr style=\"text-align: right;\">\n",
              "      <th></th>\n",
              "      <th>names</th>\n",
              "      <th>date_x</th>\n",
              "      <th>score</th>\n",
              "      <th>genre</th>\n",
              "      <th>overview</th>\n",
              "      <th>crew</th>\n",
              "      <th>orig_title</th>\n",
              "      <th>status</th>\n",
              "      <th>orig_lang</th>\n",
              "      <th>budget_x</th>\n",
              "      <th>revenue</th>\n",
              "      <th>country</th>\n",
              "      <th>top_genre</th>\n",
              "      <th>top_lang</th>\n",
              "      <th>year</th>\n",
              "    </tr>\n",
              "  </thead>\n",
              "  <tbody>\n",
              "    <tr>\n",
              "      <th>0</th>\n",
              "      <td>Creed III</td>\n",
              "      <td>2023-03-02</td>\n",
              "      <td>low</td>\n",
              "      <td>Drama, Action</td>\n",
              "      <td>After dominating the boxing world, Adonis Cree...</td>\n",
              "      <td>Michael B. Jordan, Adonis Creed, Tessa Thompso...</td>\n",
              "      <td>Creed III</td>\n",
              "      <td>Released</td>\n",
              "      <td>English</td>\n",
              "      <td>75000000.0</td>\n",
              "      <td>2.716167e+08</td>\n",
              "      <td>AU</td>\n",
              "      <td>Drama</td>\n",
              "      <td>English</td>\n",
              "      <td>2023</td>\n",
              "    </tr>\n",
              "    <tr>\n",
              "      <th>1</th>\n",
              "      <td>Avatar: The Way of Water</td>\n",
              "      <td>2022-12-15</td>\n",
              "      <td>high</td>\n",
              "      <td>Science Fiction, Adventure, Action</td>\n",
              "      <td>Set more than a decade after the events of the...</td>\n",
              "      <td>Sam Worthington, Jake Sully, Zoe Saldaña, Neyt...</td>\n",
              "      <td>Avatar: The Way of Water</td>\n",
              "      <td>Released</td>\n",
              "      <td>English</td>\n",
              "      <td>460000000.0</td>\n",
              "      <td>2.316795e+09</td>\n",
              "      <td>AU</td>\n",
              "      <td>Science Fiction</td>\n",
              "      <td>English</td>\n",
              "      <td>2022</td>\n",
              "    </tr>\n",
              "    <tr>\n",
              "      <th>2</th>\n",
              "      <td>The Super Mario Bros. Movie</td>\n",
              "      <td>2023-04-05</td>\n",
              "      <td>high</td>\n",
              "      <td>Animation, Adventure, Family, Fantasy, Comedy</td>\n",
              "      <td>While working underground to fix a water main,...</td>\n",
              "      <td>Chris Pratt, Mario (voice), Anya Taylor-Joy, P...</td>\n",
              "      <td>The Super Mario Bros. Movie</td>\n",
              "      <td>Released</td>\n",
              "      <td>English</td>\n",
              "      <td>100000000.0</td>\n",
              "      <td>7.244590e+08</td>\n",
              "      <td>AU</td>\n",
              "      <td>Animation</td>\n",
              "      <td>English</td>\n",
              "      <td>2023</td>\n",
              "    </tr>\n",
              "    <tr>\n",
              "      <th>3</th>\n",
              "      <td>Mummies</td>\n",
              "      <td>2023-01-05</td>\n",
              "      <td>high</td>\n",
              "      <td>Animation, Comedy, Family, Adventure, Fantasy</td>\n",
              "      <td>Through a series of unfortunate events, three ...</td>\n",
              "      <td>Óscar Barberán, Thut (voice), Ana Esther Albor...</td>\n",
              "      <td>Momias</td>\n",
              "      <td>Released</td>\n",
              "      <td>Spanish, Castilian</td>\n",
              "      <td>12300000.0</td>\n",
              "      <td>3.420000e+07</td>\n",
              "      <td>AU</td>\n",
              "      <td>Animation</td>\n",
              "      <td>Spanish</td>\n",
              "      <td>2023</td>\n",
              "    </tr>\n",
              "    <tr>\n",
              "      <th>4</th>\n",
              "      <td>Supercell</td>\n",
              "      <td>2023-03-17</td>\n",
              "      <td>low</td>\n",
              "      <td>Action</td>\n",
              "      <td>Good-hearted teenager William always lived in ...</td>\n",
              "      <td>Skeet Ulrich, Roy Cameron, Anne Heche, Dr Quin...</td>\n",
              "      <td>Supercell</td>\n",
              "      <td>Released</td>\n",
              "      <td>English</td>\n",
              "      <td>77000000.0</td>\n",
              "      <td>3.409420e+08</td>\n",
              "      <td>US</td>\n",
              "      <td>Action</td>\n",
              "      <td>English</td>\n",
              "      <td>2023</td>\n",
              "    </tr>\n",
              "  </tbody>\n",
              "</table>\n",
              "</div>"
            ],
            "text/plain": [
              "                         names     date_x score  \\\n",
              "0                    Creed III 2023-03-02   low   \n",
              "1     Avatar: The Way of Water 2022-12-15  high   \n",
              "2  The Super Mario Bros. Movie 2023-04-05  high   \n",
              "3                      Mummies 2023-01-05  high   \n",
              "4                    Supercell 2023-03-17   low   \n",
              "\n",
              "                                           genre  \\\n",
              "0                                  Drama, Action   \n",
              "1             Science Fiction, Adventure, Action   \n",
              "2  Animation, Adventure, Family, Fantasy, Comedy   \n",
              "3  Animation, Comedy, Family, Adventure, Fantasy   \n",
              "4                                         Action   \n",
              "\n",
              "                                            overview  \\\n",
              "0  After dominating the boxing world, Adonis Cree...   \n",
              "1  Set more than a decade after the events of the...   \n",
              "2  While working underground to fix a water main,...   \n",
              "3  Through a series of unfortunate events, three ...   \n",
              "4  Good-hearted teenager William always lived in ...   \n",
              "\n",
              "                                                crew  \\\n",
              "0  Michael B. Jordan, Adonis Creed, Tessa Thompso...   \n",
              "1  Sam Worthington, Jake Sully, Zoe Saldaña, Neyt...   \n",
              "2  Chris Pratt, Mario (voice), Anya Taylor-Joy, P...   \n",
              "3  Óscar Barberán, Thut (voice), Ana Esther Albor...   \n",
              "4  Skeet Ulrich, Roy Cameron, Anne Heche, Dr Quin...   \n",
              "\n",
              "                    orig_title     status            orig_lang     budget_x  \\\n",
              "0                    Creed III   Released              English   75000000.0   \n",
              "1     Avatar: The Way of Water   Released              English  460000000.0   \n",
              "2  The Super Mario Bros. Movie   Released              English  100000000.0   \n",
              "3                       Momias   Released   Spanish, Castilian   12300000.0   \n",
              "4                    Supercell   Released              English   77000000.0   \n",
              "\n",
              "        revenue country        top_genre  top_lang  year  \n",
              "0  2.716167e+08      AU            Drama   English  2023  \n",
              "1  2.316795e+09      AU  Science Fiction   English  2022  \n",
              "2  7.244590e+08      AU        Animation   English  2023  \n",
              "3  3.420000e+07      AU        Animation   Spanish  2023  \n",
              "4  3.409420e+08      US           Action   English  2023  "
            ]
          },
          "execution_count": 23,
          "metadata": {},
          "output_type": "execute_result"
        }
      ],
      "source": [
        "## reformat score\n",
        "\n",
        "score_threshold = 60\n",
        "model_data['score'] = model_data['score'].apply(lambda x: 'high' if model_data['score'][x] > score_threshold else 'low')\n",
        "model_data.head()"
      ]
    },
    {
      "cell_type": "markdown",
      "id": "a06890bc",
      "metadata": {
        "id": "a06890bc"
      },
      "source": [
        "The score variable is now stored as strings of \"high\" or \"low\", but for kNN modeling, it must be converted and saved as a categorical variable because kNN groups data based on distinct labels. If the score is stored as a string, the algorithm may treat each unique text as a separate class, but converting it to a categorical type ensures consistent, clear groupings for accurate classification."
      ]
    },
    {
      "cell_type": "code",
      "execution_count": 24,
      "id": "28fde33e",
      "metadata": {
        "id": "28fde33e"
      },
      "outputs": [],
      "source": [
        "# reformat from string to category\n",
        "\n",
        "model_data['score'] = model_data['score'].astype('category')"
      ]
    },
    {
      "cell_type": "markdown",
      "id": "9c330d41",
      "metadata": {
        "id": "9c330d41"
      },
      "source": [
        "#### Scale Numeric Columns\n",
        "\n",
        "The [MinMaxScaler()](https://scikit-learn.org/stable/modules/generated/sklearn.preprocessing.MinMaxScaler.html#sklearn.preprocessing.MinMaxScaler) transforms all of our numeric columns to be on a scale of 0-1. This avoids any very large numbers (like `revenue` and `budget_x`) from overpowering the distance calculations and skewing the predictions."
      ]
    },
    {
      "cell_type": "code",
      "execution_count": 25,
      "id": "7b0d9cd2",
      "metadata": {
        "id": "7b0d9cd2"
      },
      "outputs": [],
      "source": [
        "# Select only numeric columns\n",
        "numeric_cols = model_data.select_dtypes(include='number').columns\n",
        "\n",
        "# Scale numeric columns\n",
        "model_data[numeric_cols] = MinMaxScaler().fit_transform(model_data[numeric_cols])"
      ]
    },
    {
      "cell_type": "code",
      "execution_count": 26,
      "id": "b8f6d1fe",
      "metadata": {
        "colab": {
          "base_uri": "https://localhost:8080/",
          "height": 554
        },
        "id": "b8f6d1fe",
        "outputId": "4d9bda3f-d5e2-4a6d-a84c-4c3eb6060298"
      },
      "outputs": [
        {
          "data": {
            "text/plain": [
              "names                 object\n",
              "date_x        datetime64[ns]\n",
              "score               category\n",
              "genre                 object\n",
              "overview              object\n",
              "crew                  object\n",
              "orig_title            object\n",
              "status                object\n",
              "orig_lang             object\n",
              "budget_x             float64\n",
              "revenue              float64\n",
              "country               object\n",
              "top_genre             object\n",
              "top_lang              object\n",
              "year                 float64\n",
              "dtype: object"
            ]
          },
          "execution_count": 26,
          "metadata": {},
          "output_type": "execute_result"
        }
      ],
      "source": [
        "## check the data types of each column\n",
        "# note that score is now a 'category'\n",
        "\n",
        "model_data.dtypes"
      ]
    },
    {
      "cell_type": "markdown",
      "id": "cb168c20",
      "metadata": {
        "id": "cb168c20"
      },
      "source": [
        "### Drop extraneous columns\n",
        "\n",
        "Some columns in our dataset are not useful for kNN modeling because they contain text, complex lists, or information that cannot be easily converted into numeric or categorical formats for distance calculations. For example, columns like `names`, `overview`, `crew`, and `orig_title` contain descriptive text or lists of people, which do not help the kNN algorithm calculate distances to compare movies in a meaningful way.\n",
        "\n",
        "Additionally, for columns that were adjusted—such as `date_x`, `genre`, and `orig_lang`: we created new, simplified versions (`year`, `top_genre`, and `top_lang`) that are more suitable for kNN. After these adjustments, we drop the original columns to avoid redundancy and ensure our model only uses clean, relevant features.\n",
        "\n",
        "By removing these extraneous columns, we streamline our dataset and focus on the features that will help kNN make accurate predictions."
      ]
    },
    {
      "cell_type": "code",
      "execution_count": 27,
      "id": "8e65048e",
      "metadata": {
        "colab": {
          "base_uri": "https://localhost:8080/",
          "height": 206
        },
        "id": "8e65048e",
        "outputId": "1b5cceea-944d-45c1-81d7-fc664b21421e"
      },
      "outputs": [
        {
          "data": {
            "text/html": [
              "<div>\n",
              "<style scoped>\n",
              "    .dataframe tbody tr th:only-of-type {\n",
              "        vertical-align: middle;\n",
              "    }\n",
              "\n",
              "    .dataframe tbody tr th {\n",
              "        vertical-align: top;\n",
              "    }\n",
              "\n",
              "    .dataframe thead th {\n",
              "        text-align: right;\n",
              "    }\n",
              "</style>\n",
              "<table border=\"1\" class=\"dataframe\">\n",
              "  <thead>\n",
              "    <tr style=\"text-align: right;\">\n",
              "      <th></th>\n",
              "      <th>score</th>\n",
              "      <th>budget_x</th>\n",
              "      <th>revenue</th>\n",
              "      <th>country</th>\n",
              "      <th>top_genre</th>\n",
              "      <th>top_lang</th>\n",
              "      <th>year</th>\n",
              "    </tr>\n",
              "  </thead>\n",
              "  <tbody>\n",
              "    <tr>\n",
              "      <th>0</th>\n",
              "      <td>low</td>\n",
              "      <td>0.163043</td>\n",
              "      <td>0.092901</td>\n",
              "      <td>AU</td>\n",
              "      <td>Drama</td>\n",
              "      <td>English</td>\n",
              "      <td>1.000000</td>\n",
              "    </tr>\n",
              "    <tr>\n",
              "      <th>1</th>\n",
              "      <td>high</td>\n",
              "      <td>1.000000</td>\n",
              "      <td>0.792417</td>\n",
              "      <td>AU</td>\n",
              "      <td>Science Fiction</td>\n",
              "      <td>English</td>\n",
              "      <td>0.991667</td>\n",
              "    </tr>\n",
              "    <tr>\n",
              "      <th>2</th>\n",
              "      <td>high</td>\n",
              "      <td>0.217391</td>\n",
              "      <td>0.247788</td>\n",
              "      <td>AU</td>\n",
              "      <td>Animation</td>\n",
              "      <td>English</td>\n",
              "      <td>1.000000</td>\n",
              "    </tr>\n",
              "    <tr>\n",
              "      <th>3</th>\n",
              "      <td>high</td>\n",
              "      <td>0.026739</td>\n",
              "      <td>0.011697</td>\n",
              "      <td>AU</td>\n",
              "      <td>Animation</td>\n",
              "      <td>Spanish</td>\n",
              "      <td>1.000000</td>\n",
              "    </tr>\n",
              "    <tr>\n",
              "      <th>4</th>\n",
              "      <td>low</td>\n",
              "      <td>0.167391</td>\n",
              "      <td>0.116613</td>\n",
              "      <td>US</td>\n",
              "      <td>Action</td>\n",
              "      <td>English</td>\n",
              "      <td>1.000000</td>\n",
              "    </tr>\n",
              "  </tbody>\n",
              "</table>\n",
              "</div>"
            ],
            "text/plain": [
              "  score  budget_x   revenue country        top_genre  top_lang      year\n",
              "0   low  0.163043  0.092901      AU            Drama   English  1.000000\n",
              "1  high  1.000000  0.792417      AU  Science Fiction   English  0.991667\n",
              "2  high  0.217391  0.247788      AU        Animation   English  1.000000\n",
              "3  high  0.026739  0.011697      AU        Animation   Spanish  1.000000\n",
              "4   low  0.167391  0.116613      US           Action   English  1.000000"
            ]
          },
          "execution_count": 27,
          "metadata": {},
          "output_type": "execute_result"
        }
      ],
      "source": [
        "## Drop the columns we won't use\n",
        "\n",
        "model_data = model_data.drop(columns=['status', 'date_x', 'names', 'genre', 'overview', 'crew', 'orig_title', 'orig_lang'])\n",
        "# Export cleaned data to CSV for later use\n",
        "model_data.to_csv(\"imdb_movies_cleaned.csv\", index=False)\n",
        "\n",
        "#view the data now\n",
        "model_data.head()"
      ]
    },
    {
      "cell_type": "markdown",
      "id": "4914abe4",
      "metadata": {
        "id": "4914abe4"
      },
      "source": [
        "### Seperate features from target\n",
        "\n",
        "It is best practice to separate the columns used for prediction from the column you want to predict into distinct variables. This makes your code easier to read and helps you avoid mistakes, like accidentally using the answer to help make predictions. Most machine learning tools expect you to give them features and targets separately, so organizing your data this way makes your workflow smoother and less confusing."
      ]
    },
    {
      "cell_type": "code",
      "execution_count": 28,
      "id": "93ca9279",
      "metadata": {
        "id": "93ca9279"
      },
      "outputs": [],
      "source": [
        "# features: all columns except 'score'\n",
        "features = model_data.drop('score', axis=1)\n",
        "\n",
        "# Target: score column\n",
        "target = model_data['score']"
      ]
    },
    {
      "cell_type": "markdown",
      "id": "ceb6cb18",
      "metadata": {
        "id": "ceb6cb18"
      },
      "source": [
        "#### Dummy variables\n",
        "\n",
        "Dummy variables are created by transforming each category in a column into its own separate column, where each row is marked with a 1 or 0 (coded as True or False) to indicate the presence or absence of that category. This process, called one-hot encoding, ensures that all categorical features are represented numerically, making them compatible with algorithms like kNN that rely on distance calculations.\n",
        "\n",
        "For example, the `country` column contains values like \"US\", \"AU\", and \"other\", one-hot encoding will create new columns: `country_US`, `country_AU`, and `country_other`. Each row will have True in the column matching its country and False in the others. Similarly, for the `top_genre` column with values \"Action\", \"Comedy\", and \"Drama\", new columns `top_genre_Action`, `top_genre_Comedy`, and `top_genre_Drama` are created, with True/False indicating the genre for each movie.\n",
        "\n",
        "By converting categorical data into dummy variables, we prepare our dataset for effective modeling and comparison."
      ]
    },
    {
      "cell_type": "code",
      "execution_count": 29,
      "id": "44291a9d",
      "metadata": {
        "colab": {
          "base_uri": "https://localhost:8080/",
          "height": 273
        },
        "id": "44291a9d",
        "outputId": "bb5e413f-17c7-4a62-9b71-dd8be31bccf2"
      },
      "outputs": [
        {
          "data": {
            "text/html": [
              "<div>\n",
              "<style scoped>\n",
              "    .dataframe tbody tr th:only-of-type {\n",
              "        vertical-align: middle;\n",
              "    }\n",
              "\n",
              "    .dataframe tbody tr th {\n",
              "        vertical-align: top;\n",
              "    }\n",
              "\n",
              "    .dataframe thead th {\n",
              "        text-align: right;\n",
              "    }\n",
              "</style>\n",
              "<table border=\"1\" class=\"dataframe\">\n",
              "  <thead>\n",
              "    <tr style=\"text-align: right;\">\n",
              "      <th></th>\n",
              "      <th>budget_x</th>\n",
              "      <th>revenue</th>\n",
              "      <th>year</th>\n",
              "      <th>country_AU</th>\n",
              "      <th>country_ES</th>\n",
              "      <th>country_FR</th>\n",
              "      <th>country_GB</th>\n",
              "      <th>country_HK</th>\n",
              "      <th>country_IT</th>\n",
              "      <th>country_JP</th>\n",
              "      <th>...</th>\n",
              "      <th>top_lang_ Norwegian</th>\n",
              "      <th>top_lang_ Polish</th>\n",
              "      <th>top_lang_ Portuguese</th>\n",
              "      <th>top_lang_ Russian</th>\n",
              "      <th>top_lang_ Spanish</th>\n",
              "      <th>top_lang_ Swedish</th>\n",
              "      <th>top_lang_ Tagalog</th>\n",
              "      <th>top_lang_ Thai</th>\n",
              "      <th>top_lang_ Turkish</th>\n",
              "      <th>top_lang_other</th>\n",
              "    </tr>\n",
              "  </thead>\n",
              "  <tbody>\n",
              "    <tr>\n",
              "      <th>0</th>\n",
              "      <td>0.163043</td>\n",
              "      <td>0.092901</td>\n",
              "      <td>1.000000</td>\n",
              "      <td>True</td>\n",
              "      <td>False</td>\n",
              "      <td>False</td>\n",
              "      <td>False</td>\n",
              "      <td>False</td>\n",
              "      <td>False</td>\n",
              "      <td>False</td>\n",
              "      <td>...</td>\n",
              "      <td>False</td>\n",
              "      <td>False</td>\n",
              "      <td>False</td>\n",
              "      <td>False</td>\n",
              "      <td>False</td>\n",
              "      <td>False</td>\n",
              "      <td>False</td>\n",
              "      <td>False</td>\n",
              "      <td>False</td>\n",
              "      <td>False</td>\n",
              "    </tr>\n",
              "    <tr>\n",
              "      <th>1</th>\n",
              "      <td>1.000000</td>\n",
              "      <td>0.792417</td>\n",
              "      <td>0.991667</td>\n",
              "      <td>True</td>\n",
              "      <td>False</td>\n",
              "      <td>False</td>\n",
              "      <td>False</td>\n",
              "      <td>False</td>\n",
              "      <td>False</td>\n",
              "      <td>False</td>\n",
              "      <td>...</td>\n",
              "      <td>False</td>\n",
              "      <td>False</td>\n",
              "      <td>False</td>\n",
              "      <td>False</td>\n",
              "      <td>False</td>\n",
              "      <td>False</td>\n",
              "      <td>False</td>\n",
              "      <td>False</td>\n",
              "      <td>False</td>\n",
              "      <td>False</td>\n",
              "    </tr>\n",
              "    <tr>\n",
              "      <th>2</th>\n",
              "      <td>0.217391</td>\n",
              "      <td>0.247788</td>\n",
              "      <td>1.000000</td>\n",
              "      <td>True</td>\n",
              "      <td>False</td>\n",
              "      <td>False</td>\n",
              "      <td>False</td>\n",
              "      <td>False</td>\n",
              "      <td>False</td>\n",
              "      <td>False</td>\n",
              "      <td>...</td>\n",
              "      <td>False</td>\n",
              "      <td>False</td>\n",
              "      <td>False</td>\n",
              "      <td>False</td>\n",
              "      <td>False</td>\n",
              "      <td>False</td>\n",
              "      <td>False</td>\n",
              "      <td>False</td>\n",
              "      <td>False</td>\n",
              "      <td>False</td>\n",
              "    </tr>\n",
              "    <tr>\n",
              "      <th>3</th>\n",
              "      <td>0.026739</td>\n",
              "      <td>0.011697</td>\n",
              "      <td>1.000000</td>\n",
              "      <td>True</td>\n",
              "      <td>False</td>\n",
              "      <td>False</td>\n",
              "      <td>False</td>\n",
              "      <td>False</td>\n",
              "      <td>False</td>\n",
              "      <td>False</td>\n",
              "      <td>...</td>\n",
              "      <td>False</td>\n",
              "      <td>False</td>\n",
              "      <td>False</td>\n",
              "      <td>False</td>\n",
              "      <td>True</td>\n",
              "      <td>False</td>\n",
              "      <td>False</td>\n",
              "      <td>False</td>\n",
              "      <td>False</td>\n",
              "      <td>False</td>\n",
              "    </tr>\n",
              "    <tr>\n",
              "      <th>4</th>\n",
              "      <td>0.167391</td>\n",
              "      <td>0.116613</td>\n",
              "      <td>1.000000</td>\n",
              "      <td>False</td>\n",
              "      <td>False</td>\n",
              "      <td>False</td>\n",
              "      <td>False</td>\n",
              "      <td>False</td>\n",
              "      <td>False</td>\n",
              "      <td>False</td>\n",
              "      <td>...</td>\n",
              "      <td>False</td>\n",
              "      <td>False</td>\n",
              "      <td>False</td>\n",
              "      <td>False</td>\n",
              "      <td>False</td>\n",
              "      <td>False</td>\n",
              "      <td>False</td>\n",
              "      <td>False</td>\n",
              "      <td>False</td>\n",
              "      <td>False</td>\n",
              "    </tr>\n",
              "  </tbody>\n",
              "</table>\n",
              "<p>5 rows × 55 columns</p>\n",
              "</div>"
            ],
            "text/plain": [
              "   budget_x   revenue      year  country_AU  country_ES  country_FR  \\\n",
              "0  0.163043  0.092901  1.000000        True       False       False   \n",
              "1  1.000000  0.792417  0.991667        True       False       False   \n",
              "2  0.217391  0.247788  1.000000        True       False       False   \n",
              "3  0.026739  0.011697  1.000000        True       False       False   \n",
              "4  0.167391  0.116613  1.000000       False       False       False   \n",
              "\n",
              "   country_GB  country_HK  country_IT  country_JP  ...  top_lang_ Norwegian  \\\n",
              "0       False       False       False       False  ...                False   \n",
              "1       False       False       False       False  ...                False   \n",
              "2       False       False       False       False  ...                False   \n",
              "3       False       False       False       False  ...                False   \n",
              "4       False       False       False       False  ...                False   \n",
              "\n",
              "   top_lang_ Polish  top_lang_ Portuguese  top_lang_ Russian  \\\n",
              "0             False                 False              False   \n",
              "1             False                 False              False   \n",
              "2             False                 False              False   \n",
              "3             False                 False              False   \n",
              "4             False                 False              False   \n",
              "\n",
              "   top_lang_ Spanish  top_lang_ Swedish  top_lang_ Tagalog  top_lang_ Thai  \\\n",
              "0              False              False              False           False   \n",
              "1              False              False              False           False   \n",
              "2              False              False              False           False   \n",
              "3               True              False              False           False   \n",
              "4              False              False              False           False   \n",
              "\n",
              "   top_lang_ Turkish  top_lang_other  \n",
              "0              False           False  \n",
              "1              False           False  \n",
              "2              False           False  \n",
              "3              False           False  \n",
              "4              False           False  \n",
              "\n",
              "[5 rows x 55 columns]"
            ]
          },
          "execution_count": 29,
          "metadata": {},
          "output_type": "execute_result"
        }
      ],
      "source": [
        "## create dummy variables for the features dataframe\n",
        "features = pd.get_dummies(features)\n",
        "\n",
        "# preview the new features dataframe\n",
        "features.head()"
      ]
    },
    {
      "cell_type": "markdown",
      "id": "20efbe42",
      "metadata": {
        "id": "20efbe42"
      },
      "source": [
        "### Train/Test split\n",
        "Splitting the data into a **train set** and a **test set** is essential for building reliable machine learning models. The train set provides patterns and relationships for the algorithm to 'learn', while the test set is kept separate to evaluate performance on new, unseen data. This process helps identify overfitting - when an algorithm fits the training data too closely and fails to generalize - and ensures that results reflect true predictive power. Comparing accuracy on both sets allows for a confident assessment of how well the approach will work in real-world scenarios.\n",
        "\n",
        "We use the [`train_test_split()`](https://scikit-learn.org/stable/modules/generated/sklearn.model_selection.train_test_split.html) function from scikit-learn to perform this split. This function randomly divides the dataset into training and testing subsets, making it easy to control the size of each set and ensure reproducibility.\n",
        "\n",
        "> Use the linked documentation and the code below to help answer **question 8**."
      ]
    },
    {
      "cell_type": "code",
      "execution_count": 30,
      "id": "ede8d629",
      "metadata": {
        "id": "ede8d629"
      },
      "outputs": [],
      "source": [
        "# train test split\n",
        "features_train, features_test, target_train, target_test = train_test_split(features, target, test_size=0.2, random_state=45)\n"
      ]
    },
    {
      "cell_type": "markdown",
      "id": "8c24bbab",
      "metadata": {
        "id": "8c24bbab"
      },
      "source": [
        "## Create the model\n",
        "\n",
        "To build our kNN model, we must create our model, then train, test, and evaluate it. These steps are explained in more detail below.\n",
        "\n",
        "**Step 1: Create model - Initialize the classifier object**  \n",
        "We create a kNN classifier object using [`KNeighborsClassifier()`](https://scikit-learn.org/stable/modules/generated/sklearn.neighbors.KNeighborsClassifier.html). This sets up the algorithm and specifies the nearest neighbors to classify each movie.\n",
        "\n",
        "**Step 2: Train - Fit to the training data**  \n",
        "We train the kNN model by calling [`.fit()`](https://scikit-learn.org/stable/modules/generated/sklearn.neighbors.KNeighborsClassifier.html#sklearn.neighbors.KNeighborsClassifier.fit). This step allows the classifier to learn patterns from the training data so it can make predictions.\n",
        "\n",
        "**Step 3: Test - Predict on the testing data**  \n",
        "We use the trained model to predict the score category (\"high\" or \"low\") for the movies in our test set with [`.predict()`](https://scikit-learn.org/stable/modules/generated/sklearn.neighbors.KNeighborsClassifier.html#sklearn.neighbors.KNeighborsClassifier.predict). This generates predictions for data the model has not seen before.\n",
        "\n",
        "**Step 4: Evaluate - Calculate the accuracy of the testing data predictions**  \n",
        "We evaluate how well our model performed by comparing the predicted categories to the actual categories in the test set using [`accuracy_score()`](https://scikit-learn.org/stable/modules/generated/sklearn.metrics.accuracy_score.html). This gives us a percentage that reflects the proportion of correct predictions."
      ]
    },
    {
      "cell_type": "code",
      "execution_count": 31,
      "id": "d12785ee",
      "metadata": {
        "id": "d12785ee"
      },
      "outputs": [],
      "source": [
        "# Create the model\n",
        "\n",
        "knn = KNeighborsClassifier(n_neighbors=5)"
      ]
    },
    {
      "cell_type": "code",
      "execution_count": 32,
      "id": "35aae042",
      "metadata": {
        "colab": {
          "base_uri": "https://localhost:8080/",
          "height": 80
        },
        "id": "35aae042",
        "outputId": "77718b4e-ef37-499c-eca2-392a12fdacb4"
      },
      "outputs": [
        {
          "data": {
            "text/html": [
              "<style>#sk-container-id-1 {\n",
              "  /* Definition of color scheme common for light and dark mode */\n",
              "  --sklearn-color-text: #000;\n",
              "  --sklearn-color-text-muted: #666;\n",
              "  --sklearn-color-line: gray;\n",
              "  /* Definition of color scheme for unfitted estimators */\n",
              "  --sklearn-color-unfitted-level-0: #fff5e6;\n",
              "  --sklearn-color-unfitted-level-1: #f6e4d2;\n",
              "  --sklearn-color-unfitted-level-2: #ffe0b3;\n",
              "  --sklearn-color-unfitted-level-3: chocolate;\n",
              "  /* Definition of color scheme for fitted estimators */\n",
              "  --sklearn-color-fitted-level-0: #f0f8ff;\n",
              "  --sklearn-color-fitted-level-1: #d4ebff;\n",
              "  --sklearn-color-fitted-level-2: #b3dbfd;\n",
              "  --sklearn-color-fitted-level-3: cornflowerblue;\n",
              "\n",
              "  /* Specific color for light theme */\n",
              "  --sklearn-color-text-on-default-background: var(--sg-text-color, var(--theme-code-foreground, var(--jp-content-font-color1, black)));\n",
              "  --sklearn-color-background: var(--sg-background-color, var(--theme-background, var(--jp-layout-color0, white)));\n",
              "  --sklearn-color-border-box: var(--sg-text-color, var(--theme-code-foreground, var(--jp-content-font-color1, black)));\n",
              "  --sklearn-color-icon: #696969;\n",
              "\n",
              "  @media (prefers-color-scheme: dark) {\n",
              "    /* Redefinition of color scheme for dark theme */\n",
              "    --sklearn-color-text-on-default-background: var(--sg-text-color, var(--theme-code-foreground, var(--jp-content-font-color1, white)));\n",
              "    --sklearn-color-background: var(--sg-background-color, var(--theme-background, var(--jp-layout-color0, #111)));\n",
              "    --sklearn-color-border-box: var(--sg-text-color, var(--theme-code-foreground, var(--jp-content-font-color1, white)));\n",
              "    --sklearn-color-icon: #878787;\n",
              "  }\n",
              "}\n",
              "\n",
              "#sk-container-id-1 {\n",
              "  color: var(--sklearn-color-text);\n",
              "}\n",
              "\n",
              "#sk-container-id-1 pre {\n",
              "  padding: 0;\n",
              "}\n",
              "\n",
              "#sk-container-id-1 input.sk-hidden--visually {\n",
              "  border: 0;\n",
              "  clip: rect(1px 1px 1px 1px);\n",
              "  clip: rect(1px, 1px, 1px, 1px);\n",
              "  height: 1px;\n",
              "  margin: -1px;\n",
              "  overflow: hidden;\n",
              "  padding: 0;\n",
              "  position: absolute;\n",
              "  width: 1px;\n",
              "}\n",
              "\n",
              "#sk-container-id-1 div.sk-dashed-wrapped {\n",
              "  border: 1px dashed var(--sklearn-color-line);\n",
              "  margin: 0 0.4em 0.5em 0.4em;\n",
              "  box-sizing: border-box;\n",
              "  padding-bottom: 0.4em;\n",
              "  background-color: var(--sklearn-color-background);\n",
              "}\n",
              "\n",
              "#sk-container-id-1 div.sk-container {\n",
              "  /* jupyter's `normalize.less` sets `[hidden] { display: none; }`\n",
              "     but bootstrap.min.css set `[hidden] { display: none !important; }`\n",
              "     so we also need the `!important` here to be able to override the\n",
              "     default hidden behavior on the sphinx rendered scikit-learn.org.\n",
              "     See: https://github.com/scikit-learn/scikit-learn/issues/21755 */\n",
              "  display: inline-block !important;\n",
              "  position: relative;\n",
              "}\n",
              "\n",
              "#sk-container-id-1 div.sk-text-repr-fallback {\n",
              "  display: none;\n",
              "}\n",
              "\n",
              "div.sk-parallel-item,\n",
              "div.sk-serial,\n",
              "div.sk-item {\n",
              "  /* draw centered vertical line to link estimators */\n",
              "  background-image: linear-gradient(var(--sklearn-color-text-on-default-background), var(--sklearn-color-text-on-default-background));\n",
              "  background-size: 2px 100%;\n",
              "  background-repeat: no-repeat;\n",
              "  background-position: center center;\n",
              "}\n",
              "\n",
              "/* Parallel-specific style estimator block */\n",
              "\n",
              "#sk-container-id-1 div.sk-parallel-item::after {\n",
              "  content: \"\";\n",
              "  width: 100%;\n",
              "  border-bottom: 2px solid var(--sklearn-color-text-on-default-background);\n",
              "  flex-grow: 1;\n",
              "}\n",
              "\n",
              "#sk-container-id-1 div.sk-parallel {\n",
              "  display: flex;\n",
              "  align-items: stretch;\n",
              "  justify-content: center;\n",
              "  background-color: var(--sklearn-color-background);\n",
              "  position: relative;\n",
              "}\n",
              "\n",
              "#sk-container-id-1 div.sk-parallel-item {\n",
              "  display: flex;\n",
              "  flex-direction: column;\n",
              "}\n",
              "\n",
              "#sk-container-id-1 div.sk-parallel-item:first-child::after {\n",
              "  align-self: flex-end;\n",
              "  width: 50%;\n",
              "}\n",
              "\n",
              "#sk-container-id-1 div.sk-parallel-item:last-child::after {\n",
              "  align-self: flex-start;\n",
              "  width: 50%;\n",
              "}\n",
              "\n",
              "#sk-container-id-1 div.sk-parallel-item:only-child::after {\n",
              "  width: 0;\n",
              "}\n",
              "\n",
              "/* Serial-specific style estimator block */\n",
              "\n",
              "#sk-container-id-1 div.sk-serial {\n",
              "  display: flex;\n",
              "  flex-direction: column;\n",
              "  align-items: center;\n",
              "  background-color: var(--sklearn-color-background);\n",
              "  padding-right: 1em;\n",
              "  padding-left: 1em;\n",
              "}\n",
              "\n",
              "\n",
              "/* Toggleable style: style used for estimator/Pipeline/ColumnTransformer box that is\n",
              "clickable and can be expanded/collapsed.\n",
              "- Pipeline and ColumnTransformer use this feature and define the default style\n",
              "- Estimators will overwrite some part of the style using the `sk-estimator` class\n",
              "*/\n",
              "\n",
              "/* Pipeline and ColumnTransformer style (default) */\n",
              "\n",
              "#sk-container-id-1 div.sk-toggleable {\n",
              "  /* Default theme specific background. It is overwritten whether we have a\n",
              "  specific estimator or a Pipeline/ColumnTransformer */\n",
              "  background-color: var(--sklearn-color-background);\n",
              "}\n",
              "\n",
              "/* Toggleable label */\n",
              "#sk-container-id-1 label.sk-toggleable__label {\n",
              "  cursor: pointer;\n",
              "  display: flex;\n",
              "  width: 100%;\n",
              "  margin-bottom: 0;\n",
              "  padding: 0.5em;\n",
              "  box-sizing: border-box;\n",
              "  text-align: center;\n",
              "  align-items: start;\n",
              "  justify-content: space-between;\n",
              "  gap: 0.5em;\n",
              "}\n",
              "\n",
              "#sk-container-id-1 label.sk-toggleable__label .caption {\n",
              "  font-size: 0.6rem;\n",
              "  font-weight: lighter;\n",
              "  color: var(--sklearn-color-text-muted);\n",
              "}\n",
              "\n",
              "#sk-container-id-1 label.sk-toggleable__label-arrow:before {\n",
              "  /* Arrow on the left of the label */\n",
              "  content: \"▸\";\n",
              "  float: left;\n",
              "  margin-right: 0.25em;\n",
              "  color: var(--sklearn-color-icon);\n",
              "}\n",
              "\n",
              "#sk-container-id-1 label.sk-toggleable__label-arrow:hover:before {\n",
              "  color: var(--sklearn-color-text);\n",
              "}\n",
              "\n",
              "/* Toggleable content - dropdown */\n",
              "\n",
              "#sk-container-id-1 div.sk-toggleable__content {\n",
              "  display: none;\n",
              "  text-align: left;\n",
              "  /* unfitted */\n",
              "  background-color: var(--sklearn-color-unfitted-level-0);\n",
              "}\n",
              "\n",
              "#sk-container-id-1 div.sk-toggleable__content.fitted {\n",
              "  /* fitted */\n",
              "  background-color: var(--sklearn-color-fitted-level-0);\n",
              "}\n",
              "\n",
              "#sk-container-id-1 div.sk-toggleable__content pre {\n",
              "  margin: 0.2em;\n",
              "  border-radius: 0.25em;\n",
              "  color: var(--sklearn-color-text);\n",
              "  /* unfitted */\n",
              "  background-color: var(--sklearn-color-unfitted-level-0);\n",
              "}\n",
              "\n",
              "#sk-container-id-1 div.sk-toggleable__content.fitted pre {\n",
              "  /* unfitted */\n",
              "  background-color: var(--sklearn-color-fitted-level-0);\n",
              "}\n",
              "\n",
              "#sk-container-id-1 input.sk-toggleable__control:checked~div.sk-toggleable__content {\n",
              "  /* Expand drop-down */\n",
              "  display: block;\n",
              "  width: 100%;\n",
              "  overflow: visible;\n",
              "}\n",
              "\n",
              "#sk-container-id-1 input.sk-toggleable__control:checked~label.sk-toggleable__label-arrow:before {\n",
              "  content: \"▾\";\n",
              "}\n",
              "\n",
              "/* Pipeline/ColumnTransformer-specific style */\n",
              "\n",
              "#sk-container-id-1 div.sk-label input.sk-toggleable__control:checked~label.sk-toggleable__label {\n",
              "  color: var(--sklearn-color-text);\n",
              "  background-color: var(--sklearn-color-unfitted-level-2);\n",
              "}\n",
              "\n",
              "#sk-container-id-1 div.sk-label.fitted input.sk-toggleable__control:checked~label.sk-toggleable__label {\n",
              "  background-color: var(--sklearn-color-fitted-level-2);\n",
              "}\n",
              "\n",
              "/* Estimator-specific style */\n",
              "\n",
              "/* Colorize estimator box */\n",
              "#sk-container-id-1 div.sk-estimator input.sk-toggleable__control:checked~label.sk-toggleable__label {\n",
              "  /* unfitted */\n",
              "  background-color: var(--sklearn-color-unfitted-level-2);\n",
              "}\n",
              "\n",
              "#sk-container-id-1 div.sk-estimator.fitted input.sk-toggleable__control:checked~label.sk-toggleable__label {\n",
              "  /* fitted */\n",
              "  background-color: var(--sklearn-color-fitted-level-2);\n",
              "}\n",
              "\n",
              "#sk-container-id-1 div.sk-label label.sk-toggleable__label,\n",
              "#sk-container-id-1 div.sk-label label {\n",
              "  /* The background is the default theme color */\n",
              "  color: var(--sklearn-color-text-on-default-background);\n",
              "}\n",
              "\n",
              "/* On hover, darken the color of the background */\n",
              "#sk-container-id-1 div.sk-label:hover label.sk-toggleable__label {\n",
              "  color: var(--sklearn-color-text);\n",
              "  background-color: var(--sklearn-color-unfitted-level-2);\n",
              "}\n",
              "\n",
              "/* Label box, darken color on hover, fitted */\n",
              "#sk-container-id-1 div.sk-label.fitted:hover label.sk-toggleable__label.fitted {\n",
              "  color: var(--sklearn-color-text);\n",
              "  background-color: var(--sklearn-color-fitted-level-2);\n",
              "}\n",
              "\n",
              "/* Estimator label */\n",
              "\n",
              "#sk-container-id-1 div.sk-label label {\n",
              "  font-family: monospace;\n",
              "  font-weight: bold;\n",
              "  display: inline-block;\n",
              "  line-height: 1.2em;\n",
              "}\n",
              "\n",
              "#sk-container-id-1 div.sk-label-container {\n",
              "  text-align: center;\n",
              "}\n",
              "\n",
              "/* Estimator-specific */\n",
              "#sk-container-id-1 div.sk-estimator {\n",
              "  font-family: monospace;\n",
              "  border: 1px dotted var(--sklearn-color-border-box);\n",
              "  border-radius: 0.25em;\n",
              "  box-sizing: border-box;\n",
              "  margin-bottom: 0.5em;\n",
              "  /* unfitted */\n",
              "  background-color: var(--sklearn-color-unfitted-level-0);\n",
              "}\n",
              "\n",
              "#sk-container-id-1 div.sk-estimator.fitted {\n",
              "  /* fitted */\n",
              "  background-color: var(--sklearn-color-fitted-level-0);\n",
              "}\n",
              "\n",
              "/* on hover */\n",
              "#sk-container-id-1 div.sk-estimator:hover {\n",
              "  /* unfitted */\n",
              "  background-color: var(--sklearn-color-unfitted-level-2);\n",
              "}\n",
              "\n",
              "#sk-container-id-1 div.sk-estimator.fitted:hover {\n",
              "  /* fitted */\n",
              "  background-color: var(--sklearn-color-fitted-level-2);\n",
              "}\n",
              "\n",
              "/* Specification for estimator info (e.g. \"i\" and \"?\") */\n",
              "\n",
              "/* Common style for \"i\" and \"?\" */\n",
              "\n",
              ".sk-estimator-doc-link,\n",
              "a:link.sk-estimator-doc-link,\n",
              "a:visited.sk-estimator-doc-link {\n",
              "  float: right;\n",
              "  font-size: smaller;\n",
              "  line-height: 1em;\n",
              "  font-family: monospace;\n",
              "  background-color: var(--sklearn-color-background);\n",
              "  border-radius: 1em;\n",
              "  height: 1em;\n",
              "  width: 1em;\n",
              "  text-decoration: none !important;\n",
              "  margin-left: 0.5em;\n",
              "  text-align: center;\n",
              "  /* unfitted */\n",
              "  border: var(--sklearn-color-unfitted-level-1) 1pt solid;\n",
              "  color: var(--sklearn-color-unfitted-level-1);\n",
              "}\n",
              "\n",
              ".sk-estimator-doc-link.fitted,\n",
              "a:link.sk-estimator-doc-link.fitted,\n",
              "a:visited.sk-estimator-doc-link.fitted {\n",
              "  /* fitted */\n",
              "  border: var(--sklearn-color-fitted-level-1) 1pt solid;\n",
              "  color: var(--sklearn-color-fitted-level-1);\n",
              "}\n",
              "\n",
              "/* On hover */\n",
              "div.sk-estimator:hover .sk-estimator-doc-link:hover,\n",
              ".sk-estimator-doc-link:hover,\n",
              "div.sk-label-container:hover .sk-estimator-doc-link:hover,\n",
              ".sk-estimator-doc-link:hover {\n",
              "  /* unfitted */\n",
              "  background-color: var(--sklearn-color-unfitted-level-3);\n",
              "  color: var(--sklearn-color-background);\n",
              "  text-decoration: none;\n",
              "}\n",
              "\n",
              "div.sk-estimator.fitted:hover .sk-estimator-doc-link.fitted:hover,\n",
              ".sk-estimator-doc-link.fitted:hover,\n",
              "div.sk-label-container:hover .sk-estimator-doc-link.fitted:hover,\n",
              ".sk-estimator-doc-link.fitted:hover {\n",
              "  /* fitted */\n",
              "  background-color: var(--sklearn-color-fitted-level-3);\n",
              "  color: var(--sklearn-color-background);\n",
              "  text-decoration: none;\n",
              "}\n",
              "\n",
              "/* Span, style for the box shown on hovering the info icon */\n",
              ".sk-estimator-doc-link span {\n",
              "  display: none;\n",
              "  z-index: 9999;\n",
              "  position: relative;\n",
              "  font-weight: normal;\n",
              "  right: .2ex;\n",
              "  padding: .5ex;\n",
              "  margin: .5ex;\n",
              "  width: min-content;\n",
              "  min-width: 20ex;\n",
              "  max-width: 50ex;\n",
              "  color: var(--sklearn-color-text);\n",
              "  box-shadow: 2pt 2pt 4pt #999;\n",
              "  /* unfitted */\n",
              "  background: var(--sklearn-color-unfitted-level-0);\n",
              "  border: .5pt solid var(--sklearn-color-unfitted-level-3);\n",
              "}\n",
              "\n",
              ".sk-estimator-doc-link.fitted span {\n",
              "  /* fitted */\n",
              "  background: var(--sklearn-color-fitted-level-0);\n",
              "  border: var(--sklearn-color-fitted-level-3);\n",
              "}\n",
              "\n",
              ".sk-estimator-doc-link:hover span {\n",
              "  display: block;\n",
              "}\n",
              "\n",
              "/* \"?\"-specific style due to the `<a>` HTML tag */\n",
              "\n",
              "#sk-container-id-1 a.estimator_doc_link {\n",
              "  float: right;\n",
              "  font-size: 1rem;\n",
              "  line-height: 1em;\n",
              "  font-family: monospace;\n",
              "  background-color: var(--sklearn-color-background);\n",
              "  border-radius: 1rem;\n",
              "  height: 1rem;\n",
              "  width: 1rem;\n",
              "  text-decoration: none;\n",
              "  /* unfitted */\n",
              "  color: var(--sklearn-color-unfitted-level-1);\n",
              "  border: var(--sklearn-color-unfitted-level-1) 1pt solid;\n",
              "}\n",
              "\n",
              "#sk-container-id-1 a.estimator_doc_link.fitted {\n",
              "  /* fitted */\n",
              "  border: var(--sklearn-color-fitted-level-1) 1pt solid;\n",
              "  color: var(--sklearn-color-fitted-level-1);\n",
              "}\n",
              "\n",
              "/* On hover */\n",
              "#sk-container-id-1 a.estimator_doc_link:hover {\n",
              "  /* unfitted */\n",
              "  background-color: var(--sklearn-color-unfitted-level-3);\n",
              "  color: var(--sklearn-color-background);\n",
              "  text-decoration: none;\n",
              "}\n",
              "\n",
              "#sk-container-id-1 a.estimator_doc_link.fitted:hover {\n",
              "  /* fitted */\n",
              "  background-color: var(--sklearn-color-fitted-level-3);\n",
              "}\n",
              "\n",
              ".estimator-table summary {\n",
              "    padding: .5rem;\n",
              "    font-family: monospace;\n",
              "    cursor: pointer;\n",
              "}\n",
              "\n",
              ".estimator-table details[open] {\n",
              "    padding-left: 0.1rem;\n",
              "    padding-right: 0.1rem;\n",
              "    padding-bottom: 0.3rem;\n",
              "}\n",
              "\n",
              ".estimator-table .parameters-table {\n",
              "    margin-left: auto !important;\n",
              "    margin-right: auto !important;\n",
              "}\n",
              "\n",
              ".estimator-table .parameters-table tr:nth-child(odd) {\n",
              "    background-color: #fff;\n",
              "}\n",
              "\n",
              ".estimator-table .parameters-table tr:nth-child(even) {\n",
              "    background-color: #f6f6f6;\n",
              "}\n",
              "\n",
              ".estimator-table .parameters-table tr:hover {\n",
              "    background-color: #e0e0e0;\n",
              "}\n",
              "\n",
              ".estimator-table table td {\n",
              "    border: 1px solid rgba(106, 105, 104, 0.232);\n",
              "}\n",
              "\n",
              ".user-set td {\n",
              "    color:rgb(255, 94, 0);\n",
              "    text-align: left;\n",
              "}\n",
              "\n",
              ".user-set td.value pre {\n",
              "    color:rgb(255, 94, 0) !important;\n",
              "    background-color: transparent !important;\n",
              "}\n",
              "\n",
              ".default td {\n",
              "    color: black;\n",
              "    text-align: left;\n",
              "}\n",
              "\n",
              ".user-set td i,\n",
              ".default td i {\n",
              "    color: black;\n",
              "}\n",
              "\n",
              ".copy-paste-icon {\n",
              "    background-image: url(data:image/svg+xml;base64,PHN2ZyB4bWxucz0iaHR0cDovL3d3dy53My5vcmcvMjAwMC9zdmciIHZpZXdCb3g9IjAgMCA0NDggNTEyIj48IS0tIUZvbnQgQXdlc29tZSBGcmVlIDYuNy4yIGJ5IEBmb250YXdlc29tZSAtIGh0dHBzOi8vZm9udGF3ZXNvbWUuY29tIExpY2Vuc2UgLSBodHRwczovL2ZvbnRhd2Vzb21lLmNvbS9saWNlbnNlL2ZyZWUgQ29weXJpZ2h0IDIwMjUgRm9udGljb25zLCBJbmMuLS0+PHBhdGggZD0iTTIwOCAwTDMzMi4xIDBjMTIuNyAwIDI0LjkgNS4xIDMzLjkgMTQuMWw2Ny45IDY3LjljOSA5IDE0LjEgMjEuMiAxNC4xIDMzLjlMNDQ4IDMzNmMwIDI2LjUtMjEuNSA0OC00OCA0OGwtMTkyIDBjLTI2LjUgMC00OC0yMS41LTQ4LTQ4bDAtMjg4YzAtMjYuNSAyMS41LTQ4IDQ4LTQ4ek00OCAxMjhsODAgMCAwIDY0LTY0IDAgMCAyNTYgMTkyIDAgMC0zMiA2NCAwIDAgNDhjMCAyNi41LTIxLjUgNDgtNDggNDhMNDggNTEyYy0yNi41IDAtNDgtMjEuNS00OC00OEwwIDE3NmMwLTI2LjUgMjEuNS00OCA0OC00OHoiLz48L3N2Zz4=);\n",
              "    background-repeat: no-repeat;\n",
              "    background-size: 14px 14px;\n",
              "    background-position: 0;\n",
              "    display: inline-block;\n",
              "    width: 14px;\n",
              "    height: 14px;\n",
              "    cursor: pointer;\n",
              "}\n",
              "</style><body><div id=\"sk-container-id-1\" class=\"sk-top-container\"><div class=\"sk-text-repr-fallback\"><pre>KNeighborsClassifier()</pre><b>In a Jupyter environment, please rerun this cell to show the HTML representation or trust the notebook. <br />On GitHub, the HTML representation is unable to render, please try loading this page with nbviewer.org.</b></div><div class=\"sk-container\" hidden><div class=\"sk-item\"><div class=\"sk-estimator fitted sk-toggleable\"><input class=\"sk-toggleable__control sk-hidden--visually\" id=\"sk-estimator-id-1\" type=\"checkbox\" checked><label for=\"sk-estimator-id-1\" class=\"sk-toggleable__label fitted sk-toggleable__label-arrow\"><div><div>KNeighborsClassifier</div></div><div><a class=\"sk-estimator-doc-link fitted\" rel=\"noreferrer\" target=\"_blank\" href=\"https://scikit-learn.org/1.7/modules/generated/sklearn.neighbors.KNeighborsClassifier.html\">?<span>Documentation for KNeighborsClassifier</span></a><span class=\"sk-estimator-doc-link fitted\">i<span>Fitted</span></span></div></label><div class=\"sk-toggleable__content fitted\" data-param-prefix=\"\">\n",
              "        <div class=\"estimator-table\">\n",
              "            <details>\n",
              "                <summary>Parameters</summary>\n",
              "                <table class=\"parameters-table\">\n",
              "                  <tbody>\n",
              "                    \n",
              "        <tr class=\"default\">\n",
              "            <td><i class=\"copy-paste-icon\"\n",
              "                 onclick=\"copyToClipboard('n_neighbors',\n",
              "                          this.parentElement.nextElementSibling)\"\n",
              "            ></i></td>\n",
              "            <td class=\"param\">n_neighbors&nbsp;</td>\n",
              "            <td class=\"value\">5</td>\n",
              "        </tr>\n",
              "    \n",
              "\n",
              "        <tr class=\"default\">\n",
              "            <td><i class=\"copy-paste-icon\"\n",
              "                 onclick=\"copyToClipboard('weights',\n",
              "                          this.parentElement.nextElementSibling)\"\n",
              "            ></i></td>\n",
              "            <td class=\"param\">weights&nbsp;</td>\n",
              "            <td class=\"value\">&#x27;uniform&#x27;</td>\n",
              "        </tr>\n",
              "    \n",
              "\n",
              "        <tr class=\"default\">\n",
              "            <td><i class=\"copy-paste-icon\"\n",
              "                 onclick=\"copyToClipboard('algorithm',\n",
              "                          this.parentElement.nextElementSibling)\"\n",
              "            ></i></td>\n",
              "            <td class=\"param\">algorithm&nbsp;</td>\n",
              "            <td class=\"value\">&#x27;auto&#x27;</td>\n",
              "        </tr>\n",
              "    \n",
              "\n",
              "        <tr class=\"default\">\n",
              "            <td><i class=\"copy-paste-icon\"\n",
              "                 onclick=\"copyToClipboard('leaf_size',\n",
              "                          this.parentElement.nextElementSibling)\"\n",
              "            ></i></td>\n",
              "            <td class=\"param\">leaf_size&nbsp;</td>\n",
              "            <td class=\"value\">30</td>\n",
              "        </tr>\n",
              "    \n",
              "\n",
              "        <tr class=\"default\">\n",
              "            <td><i class=\"copy-paste-icon\"\n",
              "                 onclick=\"copyToClipboard('p',\n",
              "                          this.parentElement.nextElementSibling)\"\n",
              "            ></i></td>\n",
              "            <td class=\"param\">p&nbsp;</td>\n",
              "            <td class=\"value\">2</td>\n",
              "        </tr>\n",
              "    \n",
              "\n",
              "        <tr class=\"default\">\n",
              "            <td><i class=\"copy-paste-icon\"\n",
              "                 onclick=\"copyToClipboard('metric',\n",
              "                          this.parentElement.nextElementSibling)\"\n",
              "            ></i></td>\n",
              "            <td class=\"param\">metric&nbsp;</td>\n",
              "            <td class=\"value\">&#x27;minkowski&#x27;</td>\n",
              "        </tr>\n",
              "    \n",
              "\n",
              "        <tr class=\"default\">\n",
              "            <td><i class=\"copy-paste-icon\"\n",
              "                 onclick=\"copyToClipboard('metric_params',\n",
              "                          this.parentElement.nextElementSibling)\"\n",
              "            ></i></td>\n",
              "            <td class=\"param\">metric_params&nbsp;</td>\n",
              "            <td class=\"value\">None</td>\n",
              "        </tr>\n",
              "    \n",
              "\n",
              "        <tr class=\"default\">\n",
              "            <td><i class=\"copy-paste-icon\"\n",
              "                 onclick=\"copyToClipboard('n_jobs',\n",
              "                          this.parentElement.nextElementSibling)\"\n",
              "            ></i></td>\n",
              "            <td class=\"param\">n_jobs&nbsp;</td>\n",
              "            <td class=\"value\">None</td>\n",
              "        </tr>\n",
              "    \n",
              "                  </tbody>\n",
              "                </table>\n",
              "            </details>\n",
              "        </div>\n",
              "    </div></div></div></div></div><script>function copyToClipboard(text, element) {\n",
              "    // Get the parameter prefix from the closest toggleable content\n",
              "    const toggleableContent = element.closest('.sk-toggleable__content');\n",
              "    const paramPrefix = toggleableContent ? toggleableContent.dataset.paramPrefix : '';\n",
              "    const fullParamName = paramPrefix ? `${paramPrefix}${text}` : text;\n",
              "\n",
              "    const originalStyle = element.style;\n",
              "    const computedStyle = window.getComputedStyle(element);\n",
              "    const originalWidth = computedStyle.width;\n",
              "    const originalHTML = element.innerHTML.replace('Copied!', '');\n",
              "\n",
              "    navigator.clipboard.writeText(fullParamName)\n",
              "        .then(() => {\n",
              "            element.style.width = originalWidth;\n",
              "            element.style.color = 'green';\n",
              "            element.innerHTML = \"Copied!\";\n",
              "\n",
              "            setTimeout(() => {\n",
              "                element.innerHTML = originalHTML;\n",
              "                element.style = originalStyle;\n",
              "            }, 2000);\n",
              "        })\n",
              "        .catch(err => {\n",
              "            console.error('Failed to copy:', err);\n",
              "            element.style.color = 'red';\n",
              "            element.innerHTML = \"Failed!\";\n",
              "            setTimeout(() => {\n",
              "                element.innerHTML = originalHTML;\n",
              "                element.style = originalStyle;\n",
              "            }, 2000);\n",
              "        });\n",
              "    return false;\n",
              "}\n",
              "\n",
              "document.querySelectorAll('.fa-regular.fa-copy').forEach(function(element) {\n",
              "    const toggleableContent = element.closest('.sk-toggleable__content');\n",
              "    const paramPrefix = toggleableContent ? toggleableContent.dataset.paramPrefix : '';\n",
              "    const paramName = element.parentElement.nextElementSibling.textContent.trim();\n",
              "    const fullParamName = paramPrefix ? `${paramPrefix}${paramName}` : paramName;\n",
              "\n",
              "    element.setAttribute('title', fullParamName);\n",
              "});\n",
              "</script></body>"
            ],
            "text/plain": [
              "KNeighborsClassifier()"
            ]
          },
          "execution_count": 32,
          "metadata": {},
          "output_type": "execute_result"
        }
      ],
      "source": [
        "# Train the model\n",
        "\n",
        "knn.fit(features_train, target_train)"
      ]
    },
    {
      "cell_type": "code",
      "execution_count": 33,
      "id": "a085d7b5",
      "metadata": {
        "id": "a085d7b5"
      },
      "outputs": [],
      "source": [
        "# Test the model\n",
        "\n",
        "target_predicted = knn.predict(features_test)"
      ]
    },
    {
      "cell_type": "code",
      "execution_count": 34,
      "id": "fa8f76d9",
      "metadata": {
        "colab": {
          "base_uri": "https://localhost:8080/"
        },
        "id": "fa8f76d9",
        "outputId": "37ef3153-c405-46f9-b8a0-c4c96a321313"
      },
      "outputs": [
        {
          "name": "stdout",
          "output_type": "stream",
          "text": [
            "Accuracy: 0.8428642466434609\n"
          ]
        }
      ],
      "source": [
        "# Evaluate the model\n",
        "\n",
        "print(\"Accuracy:\", accuracy_score(target_test, target_predicted))"
      ]
    },
    {
      "cell_type": "markdown",
      "id": "848de74a",
      "metadata": {
        "id": "848de74a"
      },
      "source": [
        "## Your Turn: Adjust the model\n",
        "\n",
        "You will now explore how the number of neighbors (`k`) affects your kNN model's accuracy. Follow these steps:\n",
        "\n",
        "1. **Change the value of `n_neighbors`** in the cell where the kNN model is created. Try at least 5 different values.\n",
        "1. **For each k value**, run *all* model building cells:  \n",
        "    - Create the model  \n",
        "    - Train the model  \n",
        "    - Test the model  \n",
        "    - Evaluate the accuracy  \n",
        "1. **Record the accuracy** for each k value you try.\n",
        "1. **Choose the best k** based on your results and explain your reasoning to answer **quesiton 10**.\n",
        "\n",
        "> *Tip: The \"best\" k is usually the one that gives the highest accuracy on the test set, but consider if the accuracy is stable or if the model seems to be overfitting or underfitting at certain values.*"
      ]
    },
    {
      "cell_type": "markdown",
      "id": "785a3f20",
      "metadata": {
        "id": "785a3f20"
      },
      "source": []
    }
  ],
  "metadata": {
    "colab": {
      "provenance": []
    },
    "kernelspec": {
      "display_name": "WhitneyBaron_env (3.12.1)",
      "language": "python",
      "name": "python3"
    },
    "language_info": {
      "codemirror_mode": {
        "name": "ipython",
        "version": 3
      },
      "file_extension": ".py",
      "mimetype": "text/x-python",
      "name": "python",
      "nbconvert_exporter": "python",
      "pygments_lexer": "ipython3",
      "version": "3.12.1"
    }
  },
  "nbformat": 4,
  "nbformat_minor": 5
}
